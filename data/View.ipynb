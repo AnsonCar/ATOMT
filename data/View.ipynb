{
 "cells": [
  {
   "attachments": {},
   "cell_type": "markdown",
   "id": "d2316784",
   "metadata": {},
   "source": [
    "# 測試 及 觀察 數據"
   ]
  },
  {
   "cell_type": "code",
   "execution_count": 1,
   "id": "f0d59a5c",
   "metadata": {},
   "outputs": [],
   "source": [
    "from ReadData import *"
   ]
  },
  {
   "cell_type": "code",
   "execution_count": 2,
   "id": "1cbdb092",
   "metadata": {},
   "outputs": [
    {
     "data": {
      "text/html": [
       "<div>\n",
       "<style scoped>\n",
       "    .dataframe tbody tr th:only-of-type {\n",
       "        vertical-align: middle;\n",
       "    }\n",
       "\n",
       "    .dataframe tbody tr th {\n",
       "        vertical-align: top;\n",
       "    }\n",
       "\n",
       "    .dataframe thead th {\n",
       "        text-align: right;\n",
       "    }\n",
       "</style>\n",
       "<table border=\"1\" class=\"dataframe\">\n",
       "  <thead>\n",
       "    <tr style=\"text-align: right;\">\n",
       "      <th></th>\n",
       "      <th>id</th>\n",
       "      <th>username</th>\n",
       "      <th>password</th>\n",
       "      <th>email</th>\n",
       "    </tr>\n",
       "  </thead>\n",
       "  <tbody>\n",
       "    <tr>\n",
       "      <th>0</th>\n",
       "      <td>1</td>\n",
       "      <td>AnsonCar</td>\n",
       "      <td>b'$2b$12$Zqn.qbsfkLibLkWw6FtoqOhIsyU4qPpdd7tKr...</td>\n",
       "      <td>anson1tsang@gmail.com</td>\n",
       "    </tr>\n",
       "    <tr>\n",
       "      <th>1</th>\n",
       "      <td>2</td>\n",
       "      <td>AnsonCarWork</td>\n",
       "      <td>b'$2b$12$LPuJxxCrH74MNnSBWt73Qe.pGdrBMmuVhFSPi...</td>\n",
       "      <td>ansoncarwork@gmail.com</td>\n",
       "    </tr>\n",
       "    <tr>\n",
       "      <th>2</th>\n",
       "      <td>3</td>\n",
       "      <td>Test</td>\n",
       "      <td>b'$2b$12$fAZMeyb/yaYJJx0fp5tE5utmKVZAdSyCbOQYL...</td>\n",
       "      <td>test@test.com</td>\n",
       "    </tr>\n",
       "  </tbody>\n",
       "</table>\n",
       "</div>"
      ],
      "text/plain": [
       "   id      username                                           password  \\\n",
       "0   1      AnsonCar  b'$2b$12$Zqn.qbsfkLibLkWw6FtoqOhIsyU4qPpdd7tKr...   \n",
       "1   2  AnsonCarWork  b'$2b$12$LPuJxxCrH74MNnSBWt73Qe.pGdrBMmuVhFSPi...   \n",
       "2   3          Test  b'$2b$12$fAZMeyb/yaYJJx0fp5tE5utmKVZAdSyCbOQYL...   \n",
       "\n",
       "                    email  \n",
       "0   anson1tsang@gmail.com  \n",
       "1  ansoncarwork@gmail.com  \n",
       "2           test@test.com  "
      ]
     },
     "execution_count": 2,
     "metadata": {},
     "output_type": "execute_result"
    }
   ],
   "source": [
    "user = ReadData(\"project.db\", \"User\")\n",
    "user.show()"
   ]
  },
  {
   "cell_type": "code",
   "execution_count": 3,
   "id": "92aa7a6a",
   "metadata": {},
   "outputs": [
    {
     "data": {
      "text/html": [
       "<div>\n",
       "<style scoped>\n",
       "    .dataframe tbody tr th:only-of-type {\n",
       "        vertical-align: middle;\n",
       "    }\n",
       "\n",
       "    .dataframe tbody tr th {\n",
       "        vertical-align: top;\n",
       "    }\n",
       "\n",
       "    .dataframe thead th {\n",
       "        text-align: right;\n",
       "    }\n",
       "</style>\n",
       "<table border=\"1\" class=\"dataframe\">\n",
       "  <thead>\n",
       "    <tr style=\"text-align: right;\">\n",
       "      <th></th>\n",
       "      <th>id</th>\n",
       "      <th>reportname</th>\n",
       "      <th>reportabout</th>\n",
       "    </tr>\n",
       "  </thead>\n",
       "  <tbody>\n",
       "    <tr>\n",
       "      <th>0</th>\n",
       "      <td>1</td>\n",
       "      <td>PBL</td>\n",
       "      <td></td>\n",
       "    </tr>\n",
       "    <tr>\n",
       "      <th>1</th>\n",
       "      <td>2</td>\n",
       "      <td>Test</td>\n",
       "      <td>Test</td>\n",
       "    </tr>\n",
       "  </tbody>\n",
       "</table>\n",
       "</div>"
      ],
      "text/plain": [
       "   id reportname reportabout\n",
       "0   1        PBL            \n",
       "1   2       Test        Test"
      ]
     },
     "execution_count": 3,
     "metadata": {},
     "output_type": "execute_result"
    }
   ],
   "source": [
    "report = ReadData(\"project.db\", \"Report\")\n",
    "report.show()"
   ]
  },
  {
   "cell_type": "code",
   "execution_count": 4,
   "id": "cee14dc5",
   "metadata": {},
   "outputs": [
    {
     "data": {
      "text/html": [
       "<div>\n",
       "<style scoped>\n",
       "    .dataframe tbody tr th:only-of-type {\n",
       "        vertical-align: middle;\n",
       "    }\n",
       "\n",
       "    .dataframe tbody tr th {\n",
       "        vertical-align: top;\n",
       "    }\n",
       "\n",
       "    .dataframe thead th {\n",
       "        text-align: right;\n",
       "    }\n",
       "</style>\n",
       "<table border=\"1\" class=\"dataframe\">\n",
       "  <thead>\n",
       "    <tr style=\"text-align: right;\">\n",
       "      <th></th>\n",
       "      <th>id</th>\n",
       "      <th>reportid</th>\n",
       "      <th>reportphoto</th>\n",
       "    </tr>\n",
       "  </thead>\n",
       "  <tbody>\n",
       "  </tbody>\n",
       "</table>\n",
       "</div>"
      ],
      "text/plain": [
       "Empty DataFrame\n",
       "Columns: [id, reportid, reportphoto]\n",
       "Index: []"
      ]
     },
     "execution_count": 4,
     "metadata": {},
     "output_type": "execute_result"
    }
   ],
   "source": [
    "report = ReadData(\"project.db\", \"Reportphoto\")\n",
    "report.show()"
   ]
  },
  {
   "cell_type": "code",
   "execution_count": 5,
   "id": "103f3f6d",
   "metadata": {},
   "outputs": [],
   "source": [
    "# user.toFile(\"test.sql\")"
   ]
  },
  {
   "cell_type": "code",
   "execution_count": null,
   "id": "8ccb96bf",
   "metadata": {},
   "outputs": [],
   "source": []
  }
 ],
 "metadata": {
  "kernelspec": {
   "display_name": "Python 3 (ipykernel)",
   "language": "python",
   "name": "python3"
  },
  "language_info": {
   "codemirror_mode": {
    "name": "ipython",
    "version": 3
   },
   "file_extension": ".py",
   "mimetype": "text/x-python",
   "name": "python",
   "nbconvert_exporter": "python",
   "pygments_lexer": "ipython3",
   "version": "3.11.0"
  }
 },
 "nbformat": 4,
 "nbformat_minor": 5
}
